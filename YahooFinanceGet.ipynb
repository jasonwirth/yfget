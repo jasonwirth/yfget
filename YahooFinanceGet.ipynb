{
 "metadata": {
  "name": "YahooFinanceGet"
 },
 "nbformat": 3,
 "nbformat_minor": 0,
 "worksheets": [
  {
   "cells": [
    {
     "cell_type": "code",
     "collapsed": false,
     "input": [
      "from yfget import YahooFinanceGet\n",
      "yfget = YahooFinanceGet()\n"
     ],
     "language": "python",
     "metadata": {},
     "outputs": [],
     "prompt_number": 69
    },
    {
     "cell_type": "code",
     "collapsed": false,
     "input": [
      "yfget.load_summary_from_url(\"GOOG\")"
     ],
     "language": "python",
     "metadata": {},
     "outputs": [],
     "prompt_number": 70
    },
    {
     "cell_type": "code",
     "collapsed": false,
     "input": [
      "print yfget.fifty_two_week_change()\n",
      "print yfget.fifty_two_week_change(fmt='text')"
     ],
     "language": "python",
     "metadata": {},
     "outputs": [
      {
       "output_type": "stream",
       "stream": "stdout",
       "text": [
        "0.5475\n",
        "54.75%\n"
       ]
      }
     ],
     "prompt_number": 71
    },
    {
     "cell_type": "code",
     "collapsed": false,
     "input": [
      "goog = yfget.to_dict(fmt='text')\n",
      "goog['financial_highlights']"
     ],
     "language": "python",
     "metadata": {},
     "outputs": [
      {
       "output_type": "pyout",
       "prompt_number": 72,
       "text": [
        "{'balance_sheet': {'book_value_per_share_mrq': '228.01',\n",
        "  'current_ratio_mrq': '4.74',\n",
        "  'total_cash_mrq': '50.10B',\n",
        "  'total_cash_per_share_mrq': '151.00',\n",
        "  'total_debt_mrq': '7.38B',\n",
        "  'total_debt_to_equity_mrq': '9.77'},\n",
        " 'cash_flow_statement': {'levered_free_cash_flow_ttm': '10.99B',\n",
        "  'operating_cash_flow_ttm': '16.56B'},\n",
        " 'fiscal_year': {'fiscal_year_ends': 'Dec 30',\n",
        "  'most_recent_quarter_mrq': 'Mar 31, 2013'},\n",
        " 'income_statement': {'diluted_eps_ttm': '33.42',\n",
        "  'ebitda_ttm': '16.81B',\n",
        "  'gross_profit_ttm': '29.54B',\n",
        "  'net_income_avl_to_common_ttm': '11.22B',\n",
        "  'qtrly_earnings_growth_yoy': '15.80%',\n",
        "  'qtrly_revenue_growth_yoy': '31.20%',\n",
        "  'revenue_per_share_ttm': '162.86',\n",
        "  'revenue_ttm': '53.50B'},\n",
        " 'management_effectiveness': {'return_on_assets_ttm': '9.73%',\n",
        "  'return_on_equity_ttm': '16.36%'},\n",
        " 'profitability': {'operating_margin_ttm': '25.30%',\n",
        "  'profit_margin_ttm': '20.92%'}}"
       ]
      }
     ],
     "prompt_number": 72
    },
    {
     "cell_type": "code",
     "collapsed": false,
     "input": [
      "goog_nums = yfget.to_dict()"
     ],
     "language": "python",
     "metadata": {},
     "outputs": [
      {
       "ename": "ValueError",
       "evalue": "could not convert string to float: N/",
       "output_type": "pyerr",
       "traceback": [
        "\u001b[1;31m---------------------------------------------------------------------------\u001b[0m\n\u001b[1;31mValueError\u001b[0m                                Traceback (most recent call last)",
        "\u001b[1;32m<ipython-input-73-421a2f5840f1>\u001b[0m in \u001b[0;36m<module>\u001b[1;34m()\u001b[0m\n\u001b[1;32m----> 1\u001b[1;33m \u001b[0mgoog_nums\u001b[0m \u001b[1;33m=\u001b[0m \u001b[0myfget\u001b[0m\u001b[1;33m.\u001b[0m\u001b[0mto_dict\u001b[0m\u001b[1;33m(\u001b[0m\u001b[1;33m)\u001b[0m\u001b[1;33m\u001b[0m\u001b[0m\n\u001b[0m",
        "\u001b[1;32m/home/jasonwirth/python/yfget/yfget.pyc\u001b[0m in \u001b[0;36mto_dict\u001b[1;34m(self, fmt)\u001b[0m\n\u001b[0;32m    735\u001b[0m                             \u001b[1;34m\"float:\"\u001b[0m\u001b[1;33m:\u001b[0m \u001b[0mself\u001b[0m\u001b[1;33m.\u001b[0m\u001b[0mfloat\u001b[0m\u001b[1;33m(\u001b[0m\u001b[0mfmt\u001b[0m\u001b[1;33m=\u001b[0m\u001b[0mfmt\u001b[0m\u001b[1;33m)\u001b[0m\u001b[1;33m,\u001b[0m\u001b[1;33m\u001b[0m\u001b[0m\n\u001b[0;32m    736\u001b[0m                             \u001b[1;34m\"pct_held_by_insiders:\"\u001b[0m\u001b[1;33m:\u001b[0m \u001b[0mself\u001b[0m\u001b[1;33m.\u001b[0m\u001b[0mpct_held_by_insiders\u001b[0m\u001b[1;33m(\u001b[0m\u001b[0mfmt\u001b[0m\u001b[1;33m=\u001b[0m\u001b[0mfmt\u001b[0m\u001b[1;33m)\u001b[0m\u001b[1;33m,\u001b[0m\u001b[1;33m\u001b[0m\u001b[0m\n\u001b[1;32m--> 737\u001b[1;33m                             \u001b[1;34m\"pct_held_by_institutions:\"\u001b[0m\u001b[1;33m:\u001b[0m \u001b[0mself\u001b[0m\u001b[1;33m.\u001b[0m\u001b[0mpct_held_by_institutions\u001b[0m\u001b[1;33m(\u001b[0m\u001b[0mfmt\u001b[0m\u001b[1;33m=\u001b[0m\u001b[0mfmt\u001b[0m\u001b[1;33m)\u001b[0m\u001b[1;33m,\u001b[0m\u001b[1;33m\u001b[0m\u001b[0m\n\u001b[0m\u001b[0;32m    738\u001b[0m                             \u001b[1;34m\"shares_short\"\u001b[0m\u001b[1;33m:\u001b[0m\u001b[1;33m\u001b[0m\u001b[0m\n\u001b[0;32m    739\u001b[0m                                 {\n",
        "\u001b[1;32m/home/jasonwirth/python/yfget/yfget.pyc\u001b[0m in \u001b[0;36mforward_annual_dividend_rate\u001b[1;34m(self, fmt)\u001b[0m\n\u001b[0;32m    529\u001b[0m             \u001b[1;32mreturn\u001b[0m \u001b[0mstr_date\u001b[0m\u001b[1;33m\u001b[0m\u001b[0m\n\u001b[0;32m    530\u001b[0m \u001b[1;33m\u001b[0m\u001b[0m\n\u001b[1;32m--> 531\u001b[1;33m \u001b[1;33m\u001b[0m\u001b[0m\n\u001b[0m\u001b[0;32m    532\u001b[0m     \u001b[1;32mdef\u001b[0m \u001b[0mshares_short_prior_month\u001b[0m\u001b[1;33m(\u001b[0m\u001b[0mself\u001b[0m\u001b[1;33m,\u001b[0m \u001b[0mfmt\u001b[0m\u001b[1;33m=\u001b[0m\u001b[0mNone\u001b[0m\u001b[1;33m)\u001b[0m\u001b[1;33m:\u001b[0m\u001b[1;33m\u001b[0m\u001b[0m\n\u001b[0;32m    533\u001b[0m         \u001b[0mdata\u001b[0m \u001b[1;33m=\u001b[0m \u001b[0mself\u001b[0m\u001b[1;33m.\u001b[0m\u001b[0mlookup_table\u001b[0m\u001b[1;33m(\u001b[0m\u001b[1;34m'Shares Short (prior month)'\u001b[0m\u001b[1;33m)\u001b[0m\u001b[1;33m\u001b[0m\u001b[0m\n",
        "\u001b[1;32m/home/jasonwirth/python/yfget/yfget.pyc\u001b[0m in \u001b[0;36mpercent_to_dec\u001b[1;34m(cls, percent_str, decimals)\u001b[0m\n\u001b[0;32m     42\u001b[0m \u001b[1;33m\u001b[0m\u001b[0m\n\u001b[0;32m     43\u001b[0m     \u001b[1;33m@\u001b[0m\u001b[0mclassmethod\u001b[0m\u001b[1;33m\u001b[0m\u001b[0m\n\u001b[1;32m---> 44\u001b[1;33m     \u001b[1;32mdef\u001b[0m \u001b[0mpercent_to_dec\u001b[0m\u001b[1;33m(\u001b[0m\u001b[0mcls\u001b[0m\u001b[1;33m,\u001b[0m \u001b[0mpercent_str\u001b[0m\u001b[1;33m,\u001b[0m \u001b[0mdecimals\u001b[0m\u001b[1;33m=\u001b[0m\u001b[1;36m4\u001b[0m\u001b[1;33m)\u001b[0m\u001b[1;33m:\u001b[0m\u001b[1;33m\u001b[0m\u001b[0m\n\u001b[0m\u001b[0;32m     45\u001b[0m         \u001b[1;32mif\u001b[0m \u001b[0mpercent_str\u001b[0m \u001b[1;33m==\u001b[0m \u001b[1;34m'N/A'\u001b[0m\u001b[1;33m:\u001b[0m\u001b[1;33m\u001b[0m\u001b[0m\n\u001b[0;32m     46\u001b[0m             \u001b[1;32mreturn\u001b[0m \u001b[0mNone\u001b[0m\u001b[1;33m\u001b[0m\u001b[0m\n",
        "\u001b[1;31mValueError\u001b[0m: could not convert string to float: N/"
       ]
      }
     ],
     "prompt_number": 73
    },
    {
     "cell_type": "code",
     "collapsed": false,
     "input": [
      "goog is a collection"
     ],
     "language": "python",
     "metadata": {},
     "outputs": [
      {
       "ename": "SyntaxError",
       "evalue": "invalid syntax (<ipython-input-66-ca2c6651606e>, line 1)",
       "output_type": "pyerr",
       "traceback": [
        "\u001b[1;36m  File \u001b[1;32m\"<ipython-input-66-ca2c6651606e>\"\u001b[1;36m, line \u001b[1;32m1\u001b[0m\n\u001b[1;33m    goog is a collection\u001b[0m\n\u001b[1;37m                       ^\u001b[0m\n\u001b[1;31mSyntaxError\u001b[0m\u001b[1;31m:\u001b[0m invalid syntax\n"
       ]
      }
     ],
     "prompt_number": 66
    },
    {
     "cell_type": "markdown",
     "metadata": {},
     "source": [
      "\n",
      "## Let's test out our dict of AAPL key statistics"
     ]
    },
    {
     "cell_type": "code",
     "collapsed": false,
     "input": [
      "cd tests/"
     ],
     "language": "python",
     "metadata": {},
     "outputs": [
      {
       "output_type": "stream",
       "stream": "stdout",
       "text": [
        "[Errno 2] No such file or directory: 'tests/'\n",
        "/home/jasonwirth/python/yfget/tests\n"
       ]
      }
     ],
     "prompt_number": 5
    },
    {
     "cell_type": "code",
     "collapsed": false,
     "input": [
      "import ast"
     ],
     "language": "python",
     "metadata": {},
     "outputs": [],
     "prompt_number": 6
    },
    {
     "cell_type": "code",
     "collapsed": false,
     "input": [
      "# Read in our text file containing a dict\n",
      "with open(\"AAPL-dict.txt\", \"r\") as f:\n",
      "    dict_txt = f.read()\n",
      "    \n",
      "\n",
      "\n",
      "d = ast.literal_eval(dict_txt)"
     ],
     "language": "python",
     "metadata": {},
     "outputs": [],
     "prompt_number": 9
    },
    {
     "cell_type": "code",
     "collapsed": false,
     "input": [
      "d['company']"
     ],
     "language": "python",
     "metadata": {},
     "outputs": [
      {
       "output_type": "pyout",
       "prompt_number": 12,
       "text": [
        "'Apple Inc.'"
       ]
      }
     ],
     "prompt_number": 12
    },
    {
     "cell_type": "code",
     "collapsed": false,
     "input": [
      "d.keys()"
     ],
     "language": "python",
     "metadata": {},
     "outputs": [
      {
       "output_type": "pyout",
       "prompt_number": 13,
       "text": [
        "['last_updated',\n",
        " 'company',\n",
        " 'trading_information',\n",
        " 'valuation_measures',\n",
        " 'financial_highlights',\n",
        " 'symbol']"
       ]
      }
     ],
     "prompt_number": 13
    },
    {
     "cell_type": "code",
     "collapsed": false,
     "input": [
      "d['financial_highlights']['balance_sheet']['total_cash_mrq']"
     ],
     "language": "python",
     "metadata": {},
     "outputs": [
      {
       "output_type": "pyout",
       "prompt_number": 17,
       "text": [
        "'39.14B'"
       ]
      }
     ],
     "prompt_number": 17
    },
    {
     "cell_type": "code",
     "collapsed": false,
     "input": [],
     "language": "python",
     "metadata": {},
     "outputs": []
    }
   ],
   "metadata": {}
  }
 ]
}